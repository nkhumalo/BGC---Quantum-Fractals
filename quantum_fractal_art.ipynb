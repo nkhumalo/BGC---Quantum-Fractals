{
 "cells": [
  {
   "cell_type": "markdown",
   "id": "41adf9a8-b6e2-41b1-b336-d0483d585945",
   "metadata": {},
   "source": [
    "# Activity 2: Fractal Art\n",
    "In this activity,  students will edit this Jupyter notebook to create fractal art. You do not need detailed knowledge of Qiskit or fractals, and all necessary code is already written. Students just need to edit the quantum circuits to their liking.\n"
   ]
  },
  {
   "cell_type": "code",
   "execution_count": null,
   "id": "aae48547-d911-4837-8bb3-998b55b607f6",
   "metadata": {},
   "outputs": [],
   "source": []
  },
  {
   "cell_type": "markdown",
   "id": "adeae7c1-407d-403a-8130-b2f2dedbdddc",
   "metadata": {},
   "source": [
    "## Install all necessary libraries"
   ]
  },
  {
   "cell_type": "code",
   "execution_count": 3,
   "id": "bd79124d-ce7e-484b-bba8-07b16f8bdd27",
   "metadata": {},
   "outputs": [
    {
     "name": "stdout",
     "output_type": "stream",
     "text": [
      "Requirement already satisfied: numpy in /opt/conda/lib/python3.11/site-packages (2.0.2)\n",
      "Requirement already satisfied: matplotlib in /opt/conda/lib/python3.11/site-packages (3.9.2)\n",
      "Requirement already satisfied: contourpy>=1.0.1 in /opt/conda/lib/python3.11/site-packages (from matplotlib) (1.3.0)\n",
      "Requirement already satisfied: cycler>=0.10 in /opt/conda/lib/python3.11/site-packages (from matplotlib) (0.12.1)\n",
      "Requirement already satisfied: fonttools>=4.22.0 in /opt/conda/lib/python3.11/site-packages (from matplotlib) (4.53.1)\n",
      "Requirement already satisfied: kiwisolver>=1.3.1 in /opt/conda/lib/python3.11/site-packages (from matplotlib) (1.4.7)\n",
      "Requirement already satisfied: numpy>=1.23 in /opt/conda/lib/python3.11/site-packages (from matplotlib) (2.0.2)\n",
      "Requirement already satisfied: packaging>=20.0 in /opt/conda/lib/python3.11/site-packages (from matplotlib) (24.1)\n",
      "Requirement already satisfied: pillow>=8 in /opt/conda/lib/python3.11/site-packages (from matplotlib) (10.4.0)\n",
      "Requirement already satisfied: pyparsing>=2.3.1 in /opt/conda/lib/python3.11/site-packages (from matplotlib) (3.1.4)\n",
      "Requirement already satisfied: python-dateutil>=2.7 in /opt/conda/lib/python3.11/site-packages (from matplotlib) (2.9.0)\n",
      "Requirement already satisfied: six>=1.5 in /opt/conda/lib/python3.11/site-packages (from python-dateutil>=2.7->matplotlib) (1.16.0)\n",
      "Requirement already satisfied: qiskit in /opt/conda/lib/python3.11/site-packages (1.3.2)\n",
      "Requirement already satisfied: rustworkx>=0.15.0 in /opt/conda/lib/python3.11/site-packages (from qiskit) (0.16.0)\n",
      "Requirement already satisfied: numpy<3,>=1.17 in /opt/conda/lib/python3.11/site-packages (from qiskit) (2.0.2)\n",
      "Requirement already satisfied: scipy>=1.5 in /opt/conda/lib/python3.11/site-packages (from qiskit) (1.14.1)\n",
      "Requirement already satisfied: sympy>=1.3 in /opt/conda/lib/python3.11/site-packages (from qiskit) (1.13.2)\n",
      "Requirement already satisfied: dill>=0.3 in /opt/conda/lib/python3.11/site-packages (from qiskit) (0.3.8)\n",
      "Requirement already satisfied: python-dateutil>=2.8.0 in /opt/conda/lib/python3.11/site-packages (from qiskit) (2.9.0)\n",
      "Requirement already satisfied: stevedore>=3.0.0 in /opt/conda/lib/python3.11/site-packages (from qiskit) (5.4.0)\n",
      "Requirement already satisfied: typing-extensions in /opt/conda/lib/python3.11/site-packages (from qiskit) (4.12.2)\n",
      "Requirement already satisfied: symengine<0.14,>=0.11 in /opt/conda/lib/python3.11/site-packages (from qiskit) (0.13.0)\n",
      "Requirement already satisfied: six>=1.5 in /opt/conda/lib/python3.11/site-packages (from python-dateutil>=2.8.0->qiskit) (1.16.0)\n",
      "Requirement already satisfied: pbr>=2.0.0 in /opt/conda/lib/python3.11/site-packages (from stevedore>=3.0.0->qiskit) (6.1.0)\n",
      "Requirement already satisfied: mpmath<1.4,>=1.1.0 in /opt/conda/lib/python3.11/site-packages (from sympy>=1.3->qiskit) (1.3.0)\n",
      "Requirement already satisfied: qiskit-aer in /opt/conda/lib/python3.11/site-packages (0.16.0)\n",
      "Requirement already satisfied: qiskit>=1.1.0 in /opt/conda/lib/python3.11/site-packages (from qiskit-aer) (1.3.2)\n",
      "Requirement already satisfied: numpy>=1.16.3 in /opt/conda/lib/python3.11/site-packages (from qiskit-aer) (2.0.2)\n",
      "Requirement already satisfied: scipy>=1.0 in /opt/conda/lib/python3.11/site-packages (from qiskit-aer) (1.14.1)\n",
      "Requirement already satisfied: psutil>=5 in /opt/conda/lib/python3.11/site-packages (from qiskit-aer) (5.9.8)\n",
      "Requirement already satisfied: rustworkx>=0.15.0 in /opt/conda/lib/python3.11/site-packages (from qiskit>=1.1.0->qiskit-aer) (0.16.0)\n",
      "Requirement already satisfied: sympy>=1.3 in /opt/conda/lib/python3.11/site-packages (from qiskit>=1.1.0->qiskit-aer) (1.13.2)\n",
      "Requirement already satisfied: dill>=0.3 in /opt/conda/lib/python3.11/site-packages (from qiskit>=1.1.0->qiskit-aer) (0.3.8)\n",
      "Requirement already satisfied: python-dateutil>=2.8.0 in /opt/conda/lib/python3.11/site-packages (from qiskit>=1.1.0->qiskit-aer) (2.9.0)\n",
      "Requirement already satisfied: stevedore>=3.0.0 in /opt/conda/lib/python3.11/site-packages (from qiskit>=1.1.0->qiskit-aer) (5.4.0)\n",
      "Requirement already satisfied: typing-extensions in /opt/conda/lib/python3.11/site-packages (from qiskit>=1.1.0->qiskit-aer) (4.12.2)\n",
      "Requirement already satisfied: symengine<0.14,>=0.11 in /opt/conda/lib/python3.11/site-packages (from qiskit>=1.1.0->qiskit-aer) (0.13.0)\n",
      "Requirement already satisfied: six>=1.5 in /opt/conda/lib/python3.11/site-packages (from python-dateutil>=2.8.0->qiskit>=1.1.0->qiskit-aer) (1.16.0)\n",
      "Requirement already satisfied: pbr>=2.0.0 in /opt/conda/lib/python3.11/site-packages (from stevedore>=3.0.0->qiskit>=1.1.0->qiskit-aer) (6.1.0)\n",
      "Requirement already satisfied: mpmath<1.4,>=1.1.0 in /opt/conda/lib/python3.11/site-packages (from sympy>=1.3->qiskit>=1.1.0->qiskit-aer) (1.3.0)\n",
      "Requirement already satisfied: qiskit-ibm-runtime in /opt/conda/lib/python3.11/site-packages (0.34.0)\n",
      "Requirement already satisfied: requests>=2.19 in /opt/conda/lib/python3.11/site-packages (from qiskit-ibm-runtime) (2.32.3)\n",
      "Requirement already satisfied: requests-ntlm>=1.1.0 in /opt/conda/lib/python3.11/site-packages (from qiskit-ibm-runtime) (1.3.0)\n",
      "Requirement already satisfied: numpy>=1.13 in /opt/conda/lib/python3.11/site-packages (from qiskit-ibm-runtime) (2.0.2)\n",
      "Requirement already satisfied: urllib3>=1.21.1 in /opt/conda/lib/python3.11/site-packages (from qiskit-ibm-runtime) (2.2.2)\n",
      "Requirement already satisfied: python-dateutil>=2.8.0 in /opt/conda/lib/python3.11/site-packages (from qiskit-ibm-runtime) (2.9.0)\n",
      "Requirement already satisfied: websocket-client>=1.5.1 in /opt/conda/lib/python3.11/site-packages (from qiskit-ibm-runtime) (1.8.0)\n",
      "Requirement already satisfied: ibm-platform-services>=0.22.6 in /opt/conda/lib/python3.11/site-packages (from qiskit-ibm-runtime) (0.59.1)\n",
      "Requirement already satisfied: pydantic<2.10,>=2.5.0 in /opt/conda/lib/python3.11/site-packages (from qiskit-ibm-runtime) (2.8.2)\n",
      "Requirement already satisfied: qiskit>=1.1.0 in /opt/conda/lib/python3.11/site-packages (from qiskit-ibm-runtime) (1.3.2)\n",
      "Requirement already satisfied: ibm_cloud_sdk_core<4.0.0,>=3.22.0 in /opt/conda/lib/python3.11/site-packages (from ibm-platform-services>=0.22.6->qiskit-ibm-runtime) (3.22.1)\n",
      "Requirement already satisfied: annotated-types>=0.4.0 in /opt/conda/lib/python3.11/site-packages (from pydantic<2.10,>=2.5.0->qiskit-ibm-runtime) (0.7.0)\n",
      "Requirement already satisfied: pydantic-core==2.20.1 in /opt/conda/lib/python3.11/site-packages (from pydantic<2.10,>=2.5.0->qiskit-ibm-runtime) (2.20.1)\n",
      "Requirement already satisfied: typing-extensions>=4.6.1 in /opt/conda/lib/python3.11/site-packages (from pydantic<2.10,>=2.5.0->qiskit-ibm-runtime) (4.12.2)\n",
      "Requirement already satisfied: six>=1.5 in /opt/conda/lib/python3.11/site-packages (from python-dateutil>=2.8.0->qiskit-ibm-runtime) (1.16.0)\n",
      "Requirement already satisfied: rustworkx>=0.15.0 in /opt/conda/lib/python3.11/site-packages (from qiskit>=1.1.0->qiskit-ibm-runtime) (0.16.0)\n",
      "Requirement already satisfied: scipy>=1.5 in /opt/conda/lib/python3.11/site-packages (from qiskit>=1.1.0->qiskit-ibm-runtime) (1.14.1)\n",
      "Requirement already satisfied: sympy>=1.3 in /opt/conda/lib/python3.11/site-packages (from qiskit>=1.1.0->qiskit-ibm-runtime) (1.13.2)\n",
      "Requirement already satisfied: dill>=0.3 in /opt/conda/lib/python3.11/site-packages (from qiskit>=1.1.0->qiskit-ibm-runtime) (0.3.8)\n",
      "Requirement already satisfied: stevedore>=3.0.0 in /opt/conda/lib/python3.11/site-packages (from qiskit>=1.1.0->qiskit-ibm-runtime) (5.4.0)\n",
      "Requirement already satisfied: symengine<0.14,>=0.11 in /opt/conda/lib/python3.11/site-packages (from qiskit>=1.1.0->qiskit-ibm-runtime) (0.13.0)\n",
      "Requirement already satisfied: charset-normalizer<4,>=2 in /opt/conda/lib/python3.11/site-packages (from requests>=2.19->qiskit-ibm-runtime) (3.3.2)\n",
      "Requirement already satisfied: idna<4,>=2.5 in /opt/conda/lib/python3.11/site-packages (from requests>=2.19->qiskit-ibm-runtime) (3.8)\n",
      "Requirement already satisfied: certifi>=2017.4.17 in /opt/conda/lib/python3.11/site-packages (from requests>=2.19->qiskit-ibm-runtime) (2024.12.14)\n",
      "Requirement already satisfied: cryptography>=1.3 in /opt/conda/lib/python3.11/site-packages (from requests-ntlm>=1.1.0->qiskit-ibm-runtime) (43.0.1)\n",
      "Requirement already satisfied: pyspnego>=0.4.0 in /opt/conda/lib/python3.11/site-packages (from requests-ntlm>=1.1.0->qiskit-ibm-runtime) (0.11.2)\n",
      "Requirement already satisfied: cffi>=1.12 in /opt/conda/lib/python3.11/site-packages (from cryptography>=1.3->requests-ntlm>=1.1.0->qiskit-ibm-runtime) (1.17.1)\n",
      "Requirement already satisfied: PyJWT<3.0.0,>=2.8.0 in /opt/conda/lib/python3.11/site-packages (from ibm_cloud_sdk_core<4.0.0,>=3.22.0->ibm-platform-services>=0.22.6->qiskit-ibm-runtime) (2.9.0)\n",
      "Requirement already satisfied: pbr>=2.0.0 in /opt/conda/lib/python3.11/site-packages (from stevedore>=3.0.0->qiskit>=1.1.0->qiskit-ibm-runtime) (6.1.0)\n",
      "Requirement already satisfied: mpmath<1.4,>=1.1.0 in /opt/conda/lib/python3.11/site-packages (from sympy>=1.3->qiskit>=1.1.0->qiskit-ibm-runtime) (1.3.0)\n",
      "Requirement already satisfied: pycparser in /opt/conda/lib/python3.11/site-packages (from cffi>=1.12->cryptography>=1.3->requests-ntlm>=1.1.0->qiskit-ibm-runtime) (2.22)\n",
      "Unrecognized alias: 'user', it will have no effect.\n",
      "Requirement already satisfied: pylatexenc in /opt/conda/lib/python3.11/site-packages (2.10)\n",
      "Name: pylatexenc\n",
      "Version: 2.10\n",
      "Summary: Simple LaTeX parser providing latex-to-unicode and unicode-to-latex conversion\n",
      "Home-page: https://github.com/phfaist/pylatexenc\n",
      "Author: Philippe Faist\n",
      "Author-email: philippe.faist@bluewin.ch\n",
      "License: MIT\n",
      "Location: /opt/conda/lib/python3.11/site-packages\n",
      "Requires: \n",
      "Required-by: \n",
      "\n",
      "Usage:   \n",
      "  pip uninstall [options] <package> ...\n",
      "  pip uninstall [options] -r <requirements file> ...\n",
      "\n",
      "no such option: --upgrade\n"
     ]
    }
   ],
   "source": [
    "!pip3 install numpy\n",
    "!pip3 install matplotlib\n",
    "!pip3 install qiskit\n",
    "!pip3 install qiskit-aer\n",
    "!pip3 install qiskit-ibm-runtime\n",
    "!jupyter labextension enable --user ibm_quantum_widgets\n",
    "!jupyter labextension enable ibm_quantum_widgets\n",
    "!pip install pylatexenc\n",
    "!pip show pylatexenc\n",
    "!pip uninstall qiskit --upgrade"
   ]
  },
  {
   "cell_type": "markdown",
   "id": "43d3abb1-63d3-49a0-bfdd-8d257ede0f35",
   "metadata": {},
   "source": [
    "## Import necessary libraries"
   ]
  },
  {
   "cell_type": "code",
   "execution_count": 4,
   "id": "b7f1b67c-c502-46b4-b423-f5d75d3a598b",
   "metadata": {},
   "outputs": [],
   "source": [
    "# Importing standard python libraries\n",
    "import numpy as np\n",
    "from math import pi,sqrt\n",
    "import matplotlib.pyplot as plt\n",
    "\n",
    "# Importing standard Qiskit libraries\n",
    "from qiskit import QuantumCircuit, transpile, QuantumRegister\n",
    "from qiskit_ibm_runtime import QiskitRuntimeService\n",
    "from qiskit_aer import Aer\n",
    "#from qiskit.tools.jupyter import *\n",
    "from qiskit.visualization import * # plot_bloch_multivector\n",
    "#from ibm_quantum_widgets import * # CircuitComposer\n",
    "from qiskit import QuantumCircuit\n",
    "from qiskit_aer import QasmSimulator\n",
    "from qiskit.quantum_info import Statevector\n",
    "#from ibm_quantum_widgets import CircuitComposer"
   ]
  },
  {
   "cell_type": "markdown",
   "id": "eb7a7b77-7789-4b03-95e0-ace8322578ac",
   "metadata": {},
   "source": [
    "## Build your quantum circuit\n",
    "\n",
    "### 1. You can decide the number of qubits in your circuit\n"
   ]
  },
  {
   "cell_type": "markdown",
   "id": "36da6dc6-b3b4-4cc8-ad5c-250baf35eae8",
   "metadata": {},
   "source": [
    "Here is code an example\n",
    "* `circuit = QuantumCircuit(2,2)`\n",
    "l;\n",
    "To change the size of your circuit, edit the numbers **(2,2)**"
   ]
  },
  {
   "cell_type": "markdown",
   "id": "9fa903ee-0622-460e-a4ca-e5f315d90b9c",
   "metadata": {},
   "source": [
    "For example\n",
    "* **(1,1)** for 1 qubit \n",
    "* **(3,3)** for 1 qubit "
   ]
  },
  {
   "cell_type": "markdown",
   "id": "18b14d45-ec86-4603-96df-043517e329b9",
   "metadata": {},
   "source": [
    "### 2. Add superposition to a qubit with a Hadamard gate "
   ]
  },
  {
   "cell_type": "markdown",
   "id": "c719abdc-68ac-4c98-a212-de63a7c9459b",
   "metadata": {},
   "source": [
    "Here is code an example\n",
    "\n",
    "`circuit.h(0)`\n",
    "\n",
    "**(0)** represents the number of the desired qubit"
   ]
  },
  {
   "cell_type": "markdown",
   "id": "76f1e610-947b-44e0-817d-c9276a828158",
   "metadata": {},
   "source": [
    "Note:\n",
    "* The qubit count starts at 0 not 1"
   ]
  },
  {
   "cell_type": "markdown",
   "id": "24a3b9e7-664e-405b-9f8e-4ad8c1dcbc5a",
   "metadata": {},
   "source": [
    "### 3. Create superposition between two qubits "
   ]
  },
  {
   "cell_type": "code",
   "execution_count": 29,
   "id": "4a5ab1b1-7cd6-4386-8bce-010b63ca68e5",
   "metadata": {},
   "outputs": [
    {
     "data": {
      "image/png": "[encoded data removed]",
      "text/plain": [
       "<Figure size 454.719x535.111 with 1 Axes>"
      ]
     },
     "execution_count": 29,
     "metadata": {},
     "output_type": "execute_result"
    }
   ],
   "source": [
    "# Start with an one qubit quantum circuit yielding a nice fractal. Change the circuit as you like.\n",
    "circuit = QuantumCircuit(5,5) \n",
    "\n",
    "circuit.h(1)\n",
    "circuit.h(0)\n",
    "circuit.h(4)\n",
    "circuit.h(2)\n",
    "\n",
    "circuit.cx(2,4)\n",
    "circuit.cx(3,4)\n",
    "\n",
    "\n",
    "\n",
    "\n",
    "#circuit.cx(2,4)\n",
    "\n",
    "#circuit.u(pi/4, -pi/3, pi/8, 0)\n",
    "circuit.u(pi/8, -pi/6, pi/8, 1)\n",
    "#circuit.u(pi/12, -pi/9, pi/2, 0)\n",
    "#circuit.u(pi/8, -pi/6, pi/8, 2)\n",
    "\n",
    "#circuit.rx(pi/2, 1)\n",
    "#circuit.measure(1,0)\n",
    "#circuit.measure(2,0)\n",
    "\n",
    "circuit.draw(output=\"mpl\")"
   ]
  },
  {
   "cell_type": "markdown",
   "id": "f5bf33e3-6d93-41ce-8d23-98e66aaa1823",
   "metadata": {},
   "source": [
    "## Algorithm that creates fractal representation of your circuit"
   ]
  },
  {
   "cell_type": "code",
   "execution_count": 30,
   "id": "ff30e4f8-aff2-40a1-b3c3-09d39a1dbb9a",
   "metadata": {},
   "outputs": [
    {
     "name": "stdout",
     "output_type": "stream",
     "text": [
      "z=  (1+0j)\n"
     ]
    }
   ],
   "source": [
    "# Run the circuit with the state vector simulator to obtain a noise-free fractal.\n",
    "qc1 = circuit\n",
    "\n",
    "backend = Aer.get_backend('statevector_simulator')\n",
    "#out = execute(qc1,backend).result().get_statevector()\n",
    "out = backend.run(qc1).result().get_statevector()\n",
    "#print(out)\n",
    "\n",
    "# Extract the first element of the state vector as z0 and the second element as z1.\n",
    "z0 = out.data[0]\n",
    "z1 = out.data[1]\n",
    "\n",
    "\n",
    "# Goal: One complex number for the Julia set fractal. \n",
    "if z1.real != 0 or z1.imag != 0:\n",
    "    z = z0/z1\n",
    "    z = round(z.real, 2) + round(z.imag, 2) * 1j\n",
    "else:\n",
    "     z = 0 \n",
    "\n",
    "print(\"z= \",z)\n",
    "\n",
    "# Define the size\n",
    "size = 1000\n",
    "heightsize = size\n",
    "widthsize = size\n",
    "\n",
    "\n",
    "def julia_set(c=z, height=heightsize, width=widthsize, x=0, y=0, zoom=1, max_iterations=100):\n",
    "\n",
    "    # To make navigation easier we calculate these values\n",
    "    x_width = 1.5\n",
    "    y_height = 1.5*height/width\n",
    "    x_from = x - x_width/zoom\n",
    "    x_to = x + x_width/zoom\n",
    "    y_from = y - y_height/zoom\n",
    "    y_to = y + y_height/zoom\n",
    "    \n",
    "    # Here the actual algorithm starts and the z paramter is defined for the Julia set function\n",
    "    x = np.linspace(x_from, x_to, width).reshape((1, width))\n",
    "    y = np.linspace(y_from, y_to, height).reshape((height, 1))\n",
    "    z = x + 1j * y\n",
    "    \n",
    "    # Initialize c to the complex number obtained from the quantum circuit\n",
    "    c = np.full(z.shape, c)\n",
    "    \n",
    "    # To keep track in which iteration the point diverged\n",
    "    div_time = np.zeros(z.shape, dtype=int)\n",
    "    \n",
    "    # To keep track on which points did not converge so far\n",
    "    m = np.full(c.shape, True, dtype=bool)\n",
    "    \n",
    "    for i in range(max_iterations):\n",
    "        z[m] = z[m]**2 + c[m] \n",
    "        m[np.abs(z) > 2] = False\n",
    "        div_time[m] = i\n",
    "    return div_time"
   ]
  },
  {
   "cell_type": "markdown",
   "id": "935bf8ad-ce7e-49d5-b5c6-19287ef8cf81",
   "metadata": {},
   "source": [
    "## Pick the color style of your fractal art\n",
    "\n",
    "There are many different color map choices. A few options are listed."
   ]
  },
  {
   "cell_type": "markdown",
   "id": "22651f23-6210-48da-8156-c9735c283622",
   "metadata": {},
   "source": [
    "* Look at this link to see all options:\n",
    "* <a href=\"https://matplotlib.org/stable/users/explain/colors/colormaps.html\" target=\"_blank\">Color Map List</a>\n"
   ]
  },
  {
   "cell_type": "code",
   "execution_count": 31,
   "id": "f47deddd-6d0c-4194-910c-a341a2c2f9ef",
   "metadata": {},
   "outputs": [
    {
     "data": {
      "image/png": "[encoded data removed]",
      "text/plain": [
       "<Figure size 640x480 with 1 Axes>"
      ]
     },
     "metadata": {},
     "output_type": "display_data"
    }
   ],
   "source": [
    "# plot the Julia set fractal\n",
    "plt.imshow(julia_set(), cmap='YlOrBr') # prism, flag, tab20b, viridis', 'plasma', 'inferno', 'magma', 'cividis'\n",
    "plt.show()\n",
    "\n"
   ]
  },
  {
   "cell_type": "code",
   "execution_count": null,
   "id": "23c2adf4-d2b5-4c53-bdc9-5d428f0d8bef",
   "metadata": {},
   "outputs": [],
   "source": []
  },
  {
   "cell_type": "code",
   "execution_count": null,
   "id": "6a895032-4869-4024-bf05-8f3dfd818fba",
   "metadata": {},
   "outputs": [],
   "source": []
  }
 ],
 "metadata": {
  "kernelspec": {
   "display_name": "Python 3 (ipykernel)",
   "language": "python",
   "name": "python3"
  },
  "language_info": {
   "codemirror_mode": {
    "name": "ipython",
    "version": 3
   },
   "file_extension": ".py",
   "mimetype": "text/x-python",
   "name": "python",
   "nbconvert_exporter": "python",
   "pygments_lexer": "ipython3",
   "version": "3.11.9"
  }
 },
 "nbformat": 4,
 "nbformat_minor": 5
}
